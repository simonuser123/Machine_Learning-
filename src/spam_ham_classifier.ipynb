{
 "cells": [
  {
   "cell_type": "markdown",
   "id": "4bb56c51",
   "metadata": {},
   "source": [
    "# ASSIGMENT B\n",
    "---\n",
    "**Report Outline:**  \n",
    "1. Spam Classifier\n",
    "2. Data Acquisition and Exploration \n",
    "3. Loading and Understanding the Data\n",
    "4. Splitting the Data\n",
    "5. Data preparation pipeline  \n",
    "6. Model training and selection  \n",
    "7. Final evaluation\n",
    "8. Conclusion\n",
    "\n",
    "---\n",
    "\n",
    "### Spam Classifier\n",
    "The primary goal of this project was to develop a high-performance spam classifier capable of accurately distinguishing between legitimate (ham) and unsolicited (spam) emails. This report details the methodology, implementation, and evaluation of the spam classifier, outlining each step from data acquisition to the final model evaluation. The process involved several key stages: data collection and initial exploration, building a robust data preparation pipeline, training and selecting suitable classification models, and finally, evaluating the best-performing model on unseen data.\n",
    "\n",
    "---\n",
    "\n",
    "### Data Acquisition and Exploration\n",
    "The datasets used for this project were obtained from Apache SpamAssassin’s public corpus. These datasets include both \"ham\" (non-spam) and \"spam\" emails, which are crucial for training a supervised learning model. The data was downloaded and extracted into a local 'datasets' directory.\n",
    "\n",
    "The following Python code snippet illustrates the data acquisition process:"
   ]
  },
  {
   "cell_type": "code",
   "execution_count": 35,
   "id": "ef3134e4",
   "metadata": {},
   "outputs": [
    {
     "name": "stdout",
     "output_type": "stream",
     "text": [
      "Downloading 20030228_easy_ham.tar.bz2...\n",
      "Extracting 20030228_easy_ham.tar.bz2...\n"
     ]
    },
    {
     "name": "stderr",
     "output_type": "stream",
     "text": [
      "C:\\Users\\uns\\AppData\\Local\\Temp\\ipykernel_15592\\2085667465.py:38: DeprecationWarning: Python 3.14 will, by default, filter extracted tar archives and reject files or modify their metadata. Use the filter argument to control this behavior.\n",
      "  tar_file.extractall(path=datasets_path)\n"
     ]
    },
    {
     "name": "stdout",
     "output_type": "stream",
     "text": [
      "Downloading 20030228_easy_ham_2.tar.bz2...\n",
      "Extracting 20030228_easy_ham_2.tar.bz2...\n",
      "Downloading 20030228_hard_ham.tar.bz2...\n",
      "Extracting 20030228_hard_ham.tar.bz2...\n",
      "Downloading 20030228_spam.tar.bz2...\n",
      "Extracting 20030228_spam.tar.bz2...\n",
      "Downloading 20050311_spam_2.tar.bz2...\n",
      "Extracting 20050311_spam_2.tar.bz2...\n",
      "Data download and extraction complete.\n"
     ]
    }
   ],
   "source": [
    "import os\n",
    "import tarfile\n",
    "from pathlib import Path\n",
    "import urllib.request\n",
    "\n",
    "# Function to download and extract the datasets\n",
    "def fetch_spam_data():\n",
    "    \"\"\"\n",
    "    Downloads and extracts the spam and ham datasets from Apache SpamAssassin.\n",
    "    \"\"\"\n",
    "    base_url = \"http://spamassassin.apache.org/old/publiccorpus/\"\n",
    "    files = [\n",
    "        \"20030228_easy_ham.tar.bz2\",\n",
    "        \"20030228_easy_ham_2.tar.bz2\",\n",
    "        \"20030228_hard_ham.tar.bz2\",\n",
    "        \"20030228_spam.tar.bz2\",\n",
    "        \"20050311_spam_2.tar.bz2\",\n",
    "    ]\n",
    "\n",
    "    ham_url = base_url + \"20030228_easy_ham.tar.bz2\"\n",
    "    spam_url = base_url + \"20030228_spam.tar.bz2\"\n",
    "\n",
    "    # Define the local path to store the datasets\n",
    "    datasets_path = Path(\"datasets\")\n",
    "    datasets_path.mkdir(parents=True, exist_ok=True)\n",
    "\n",
    "    # Download and extract each file\n",
    "    for filename in files:\n",
    "        url = base_url + filename\n",
    "        local_path = datasets_path / filename\n",
    "\n",
    "        if not local_path.is_file():\n",
    "            print(f\"Downloading {filename}...\")\n",
    "            urllib.request.urlretrieve(url, local_path)\n",
    "        \n",
    "        print(f\"Extracting {filename}...\")\n",
    "        with tarfile.open(local_path) as tar_file:\n",
    "            tar_file.extractall(path=datasets_path)\n",
    "\n",
    "# Execute the function\n",
    "fetch_spam_data()\n",
    "print(\"Data download and extraction complete.\")"
   ]
  },
  {
   "cell_type": "markdown",
   "id": "31655403",
   "metadata": {},
   "source": [
    "### Loading and Understanding the Data\n",
    "After acquisition, the emails were loaded and parsed using Python's email library. A total of 4153 ham emails and 1898 spam emails were loaded. A sample spam email snippet is shown below, demonstrating its typical structure with promotional content, testimonials, and contact information, often characterized by excessive capitalization and call-to-action phrases."
   ]
  },
  {
   "cell_type": "code",
   "execution_count": 36,
   "id": "9dc16275",
   "metadata": {},
   "outputs": [
    {
     "name": "stdout",
     "output_type": "stream",
     "text": [
      "Loaded 4153 ham emails and 1898 spam emails.\n",
      "\n",
      "--- Sample Spam Email ---\n",
      "A POWERHOUSE GIFTING PROGRAM You Don't Want To Miss! \n",
      " \n",
      "  GET IN WITH THE FOUNDERS! \n",
      "The MAJOR PLAYERS are on This ONE\n",
      "For ONCE be where the PlayerS are\n",
      "This is YOUR Private Invitation\n",
      "\n",
      "EXPERTS ARE CALLING THIS THE FASTEST WAY \n",
      "TO HUGE CASH FLOW EVER CONCEIVED\n",
      "Leverage $1,000 into $50,000 Over and Over Again\n",
      "\n",
      "THE QUESTION HERE IS:\n",
      "YOU EITHER WANT TO BE WEALTHY \n",
      "OR YOU DON'T!!!\n",
      "WHICH ONE ARE YOU?\n",
      "I am tossing you a financial lifeline and for your sake I \n",
      "Hope you GRAB onto it and hold on tight For the Ride of youR life!\n",
      "\n",
      "Testimonials\n",
      "\n",
      "Hear what average people are doing their first few days:\n",
      "�We've received 8,000 in 1 day and we are doing that over and over again!' Q.S. in AL\n",
      " �I'm a single mother in FL and I've received 12,000 in the last 4 days.� D. S. in FL\n",
      "�I was not sure about this when I sent off my $1,000 pledge, but I got back $2,000 the very next day!� L.L. in KY\n",
      "�I didn't have the money, so I found myself a partner to work this with. We have received $4,000 over the last 2 days. \n",
      "I think I made the right decision; don't you?� K. C. in FL\n",
      "�I pick up $3,000 my first day and I  they gave me free leads and all the training, you can too!� J.W. in CA\n",
      "\n",
      "ANNOUNCING: We will CLOSE your sales for YOU! And Help you get a Fax Blast IMMEDIATELY Upon Your Entry!!!    YOU Make the MONEY!!!\n",
      "FREE LEADS!!! TRAINING!!!\n",
      "\n",
      "$$DON'T WAIT!!! CALL NOW $$\n",
      "FAX BACK TO: 1-800-421-6318 OR Call 1-800-896-6568 \n",
      "\n",
      "Name__________________________________Phone___________________________________________\n",
      "\n",
      "Fax_____________________________________Email____________________________________________\n",
      "\n",
      "Best Time To Call_________________________Time Zone________________________________________\n",
      "\n",
      "This message is sent in compliance of the new e-mail bill. \"Per Section 301, Paragraph (a)(2)(C) of S. 1618, further transmissions by the sender of this email may be stopped, at no cost to you, by sending a reply to this email address with the word \"REMOVE\" in the subject line. Errors, omissions, and exceptions excluded.\n",
      " \n",
      "This is NOT spam! I have compiled this list from our Replicate Database, relative to Seattle Marketing Group, The Gigt, or Turbo Team for the sole purpose of these communications. Your continued inclusion is ONLY by your gracious permission. If you wish to not receive this mail from me, please send an email to tesrewinter@yahoo.com with \"Remove\" in the subject and you will be deleted immediately.\n"
     ]
    }
   ],
   "source": [
    "import email\n",
    "import email.policy\n",
    "\n",
    "def load_email(filepath):\n",
    "    \"\"\"\n",
    "    Loads a single email from a file path.\n",
    "    \"\"\"\n",
    "    with open(filepath, \"rb\") as f:\n",
    "        return email.parser.BytesParser(policy=email.policy.default).parse(f)\n",
    "\n",
    "# Base directory where all datasets have been extracted\n",
    "base_path = Path(\"datasets\")\n",
    "\n",
    "# Subdirectories for ham and spam variants\n",
    "ham_dirs  = [\"easy_ham\", \"easy_ham_2\", \"hard_ham\"]\n",
    "spam_dirs = [\"spam\", \"spam_2\"]\n",
    "\n",
    "# Load all ham emails from each ham subdirectory\n",
    "ham_emails = []\n",
    "for subdir in ham_dirs:\n",
    "    dirpath = base_path / subdir\n",
    "    for filepath in dirpath.iterdir():\n",
    "        if filepath.is_file():\n",
    "            ham_emails.append(load_email(filepath))\n",
    "\n",
    "# Load all spam emails from each spam subdirectory\n",
    "spam_emails = []\n",
    "for subdir in spam_dirs:\n",
    "    dirpath = base_path / subdir\n",
    "    for filepath in dirpath.iterdir():\n",
    "        if filepath.is_file():\n",
    "            spam_emails.append(load_email(filepath))\n",
    "\n",
    "print(f\"Loaded {len(ham_emails)} ham emails and {len(spam_emails)} spam emails.\")\n",
    "\n",
    "\n",
    "# Let's inspect the structure of a sample ham email\n",
    "#print(\"\\n--- Sample Ham Email ---\")\n",
    "#print(ham_emails[1].get_content().strip())\n",
    "\n",
    "# Let's inspect the structure of a sample spam email\n",
    "print(\"\\n--- Sample Spam Email ---\")\n",
    "print(spam_emails[5].get_content().strip())\n"
   ]
  },
  {
   "cell_type": "markdown",
   "id": "f5748361",
   "metadata": {},
   "source": [
    "### Splitting the Data\n",
    "\n",
    "By using the scikit-learn library the combined dataset was then split into training and test sets using a 80/20 ratio to ensure an unbiased evaluation of the model's performance on unseen data.\n"
   ]
  },
  {
   "cell_type": "code",
   "execution_count": 37,
   "id": "2cca88f0",
   "metadata": {},
   "outputs": [
    {
     "name": "stdout",
     "output_type": "stream",
     "text": [
      "Training set size: 4840\n",
      "Test set size: 1211\n"
     ]
    }
   ],
   "source": [
    "import numpy as np\n",
    "from sklearn.model_selection import train_test_split\n",
    "\n",
    "# Create the full dataset and corresponding labels\n",
    "# 0 for ham, 1 for spam\n",
    "X = np.array(ham_emails + spam_emails, dtype=object)\n",
    "y = np.array([0] * len(ham_emails) + [1] * len(spam_emails))\n",
    "\n",
    "# Split the data\n",
    "X_train, X_test, y_train, y_test = train_test_split(X, y, test_size=0.2, random_state=42)\n",
    "\n",
    "print(f\"Training set size: {len(X_train)}\")\n",
    "print(f\"Test set size: {len(X_test)}\")"
   ]
  },
  {
   "cell_type": "markdown",
   "id": "c6081521",
   "metadata": {},
   "source": [
    "### Data Preparation Pipeline\n",
    "\n",
    "This section details the crucial data preparation pipeline, which transforms raw email content into a numerical format suitable for machine learning algorithms. The pipeline consists of two main custom transformers: EmailToWordCounterTransformer and WordCounterToVectorTransformer.\n",
    "\n",
    "#### 1. email_to_text function:  \n",
    "This helper function extracts the plain text content from an email object. It iterates through the email parts and prioritizes plain text content over HTML.\n",
    "\n",
    "#### 2. EmailToWordCounterTransformer:  \n",
    "This custom transformer preprocesses the email text and counts the occurrences of each word.\n",
    "\n",
    "- **Stripping Headers:** Email headers often contain metadata (sender, receiver, date) that is less relevant for classifying content-based spam. Stripping them focuses the analysis on the message body.  \n",
    "- **Lowercasing:** Converting all text to lowercase ensures that words like \"Free\" and \"free\" are treated as the same token, reducing vocabulary size and improving consistency.  \n",
    "- **Replacing URLs:** URLs in spam emails often change (e.g., URL shortening, cloaking) but their presence is a strong indicator of spam. Replacing specific URLs with a generic \"URL\" token captures this crucial feature without being overly sensitive to the exact link. This helps the model generalize better.  \n",
    "- **Replacing Numbers:** Similar to URLs, specific numbers (e.g., phone numbers, amounts) might vary, but their presence can be indicative. Replacing them with a \"NUMBER\" token helps the model learn patterns related to numerical content without memorizing specific digits.  \n",
    "- **Removing Punctuation:** Punctuation marks often add noise and don't contribute significantly to the semantic meaning for spam detection. Removing them simplifies the text and focuses on the words themselves.  \n",
    "- **Stemming and Stop Word Removal:**  \n",
    "  - **Stemming:** Using nltk.PorterStemmer(), words are reduced to their root form (e.g., \"running\", \"runs\", \"ran\" all become \"run\"). This reduces the vocabulary and helps in treating morphologically similar words as the same feature.  \n",
    "  - **Stop Word Removal:** Common words like \"a\", \"the\", \"is\" (stopwords) carry little meaning for classification. Removing them reduces noise and focuses the model on more discriminative terms.\n",
    "\n",
    "#### 3. WordCounterToVectorTransformer:  \n",
    "This transformer converts the word counts into a sparse matrix, which is the standard numerical format for machine learning algorithms.\n",
    "\n",
    "- **Vocabulary Creation:** During the fit phase, it builds a vocabulary of the vocabulary_size (e.g., 2000) most common words from the training data. This limits the feature space, focusing on the most important terms and reducing dimensionality, which helps prevent overfitting and improves computational efficiency.  \n",
    "- **Sparse Matrix Representation:** Emails are very sparse in terms of word usage (most words are absent from any given email). A csr_matrix (Compressed Sparse Row) efficiently stores only the non-zero word counts, saving memory and speeding up computations. Each row represents an email, and each column corresponds to a word in the vocabulary, with values being the word counts.\n",
    "\n",
    "#### Pipeline Assembly:  \n",
    "The two custom transformers are combined into a Pipeline from sklearn.pipeline, ensuring that the data preparation steps are executed sequentially and consistently.\n",
    "```\n"
   ]
  },
  {
   "cell_type": "code",
   "execution_count": 58,
   "id": "0d5fc600",
   "metadata": {},
   "outputs": [],
   "source": [
    "import re\n",
    "from collections import Counter\n",
    "from urlextract import URLExtract\n",
    "from sklearn.base import BaseEstimator, TransformerMixin\n",
    "from scipy.sparse import csr_matrix\n",
    "import nltk\n",
    "from sklearn.pipeline import Pipeline\n",
    "\n",
    "# Ensure you have the necessary NLTK data\n",
    "nltk.download('punkt', quiet=True)\n",
    "nltk.download('stopwords', quiet=True)\n",
    "\n",
    "# This transformer converts an email object into its plain text content.\n",
    "def email_to_text(email_obj):\n",
    "    html = None\n",
    "    for part in email_obj.walk():\n",
    "        ctype = part.get_content_type()\n",
    "        if ctype in (\"text/plain\", \"text/html\"):\n",
    "            try:\n",
    "                content = part.get_content()\n",
    "            except: # In case of encoding issues\n",
    "                content = str(part.get_payload())\n",
    "            if ctype == \"text/plain\":\n",
    "                return content\n",
    "            else:\n",
    "                html = content\n",
    "    if html:\n",
    "        # A more advanced version would parse the HTML, but for now, we return it as is.\n",
    "        # You can improve this by using a library like BeautifulSoup.\n",
    "        return html\n",
    "    return \"\"\n",
    "\n",
    "# This transformer cleans the text and counts the words.\n",
    "class EmailToWordCounterTransformer(BaseEstimator, TransformerMixin):\n",
    "    def __init__(self, strip_headers=True, lower_case=True, remove_punctuation=True,\n",
    "                 replace_urls=True, replace_numbers=True, stemming=True):\n",
    "        self.strip_headers = strip_headers\n",
    "        self.lower_case = lower_case\n",
    "        self.remove_punctuation = remove_punctuation\n",
    "        self.replace_urls = replace_urls\n",
    "        self.replace_numbers = replace_numbers\n",
    "        self.stemming = stemming\n",
    "        self.url_extractor = URLExtract()\n",
    "        self.stemmer = nltk.PorterStemmer()\n",
    "        self.stop_words = set(nltk.corpus.stopwords.words('english'))\n",
    "\n",
    "    def fit(self, X, y=None):\n",
    "        return self\n",
    "    \n",
    "    def transform(self, X, y=None):\n",
    "        X_transformed = []\n",
    "        for email_obj in X:\n",
    "            text = email_to_text(email_obj)\n",
    "            if self.strip_headers:\n",
    "                text = text.split('\\n\\n', 1)[-1]\n",
    "            if self.lower_case:\n",
    "                text = text.lower()\n",
    "            if self.replace_urls:\n",
    "                urls = list(self.url_extractor.find_urls(text))\n",
    "                for url in urls:\n",
    "                    text = text.replace(url, \" URL \")\n",
    "            if self.replace_numbers:\n",
    "                text = re.sub(r'\\d+(?:\\.\\d*)?(?:[eE][+-]?\\d+)?', 'NUMBER', text)\n",
    "            if self.remove_punctuation:\n",
    "                text = re.sub(r'\\W+', ' ', text, flags=re.M)\n",
    "            \n",
    "            word_counts = Counter(text.split())\n",
    "            if self.stemming:\n",
    "                stemmed_word_counts = Counter()\n",
    "                for word, count in word_counts.items():\n",
    "                    stemmed_word = self.stemmer.stem(word)\n",
    "                    if stemmed_word not in self.stop_words:\n",
    "                        stemmed_word_counts[stemmed_word] += count\n",
    "                word_counts = stemmed_word_counts\n",
    "            X_transformed.append(word_counts)\n",
    "        return np.array(X_transformed)\n",
    "\n",
    "# This transformer converts word counts to a sparse vector.\n",
    "class WordCounterToVectorTransformer(BaseEstimator, TransformerMixin):\n",
    "    def __init__(self, vocabulary_size=1000):\n",
    "        self.vocabulary_size = vocabulary_size\n",
    "    def fit(self, X, y=None):\n",
    "        total_counts = Counter()\n",
    "        for word_counts in X:\n",
    "            for word, count in word_counts.items():\n",
    "                total_counts[word] += count\n",
    "        most_common = total_counts.most_common(self.vocabulary_size)\n",
    "        self.vocabulary_ = {word: index for index, (word, count) in enumerate(most_common)}\n",
    "        return self\n",
    "    def transform(self, X, y=None):\n",
    "        rows, cols, data = [], [], []\n",
    "        for row, word_counts in enumerate(X):\n",
    "            for word, count in word_counts.items():\n",
    "                if word in self.vocabulary_:\n",
    "                    rows.append(row)\n",
    "                    cols.append(self.vocabulary_[word])\n",
    "                    data.append(count)\n",
    "        return csr_matrix((data, (rows, cols)), shape=(len(X), self.vocabulary_size))\n",
    "\n",
    "# Now, assemble the full pipeline\n",
    "preprocess_pipeline = Pipeline([\n",
    "    (\"email_to_wordcount\", EmailToWordCounterTransformer()),\n",
    "    (\"wordcount_to_vector\", WordCounterToVectorTransformer(vocabulary_size=2000)),\n",
    "])\n",
    "\n",
    "# Fit and transform the training data\n",
    "X_train_transformed = preprocess_pipeline.fit_transform(X_train)"
   ]
  },
  {
   "cell_type": "markdown",
   "id": "4bb9529d",
   "metadata": {},
   "source": [
    "### Model Training and Selection\n",
    "\n",
    "With the data prepared, various classification models were trained and evaluated using 3-fold cross-validation on the training set. The key metrics for comparison were Precision, Recall, and F1-Score, along with ROC AUC.\n",
    "\n",
    "- **Precision:** Measures the accuracy of positive predictions (when the model says it's spam, how often is it actually spam?). High precision minimizes false positives, which is crucial for a spam filter to avoid blocking legitimate emails.\n",
    "\n",
    "- **Recall:** Measures the proportion of actual positive instances that are correctly identified (of all the spam emails, how many did the model catch?). High recall minimizes false negatives, ensuring that most spam emails are detected.\n",
    "\n",
    "- **F1-Score:** The harmonic mean of precision and recall. It provides a balanced measure, especially useful when there's an uneven class distribution or when both precision and recall are important.\n",
    "\n",
    "- **ROC AUC:** (Receiver Operating Characteristic Area Under the Curve) measures the ability of a classifier to distinguish between classes. A higher AUC indicates a better model performance at distinguishing between spam and ham."
   ]
  },
  {
   "cell_type": "markdown",
   "id": "02dfa9bf",
   "metadata": {},
   "source": [
    "Logistic Regression: A linear model for binary classification"
   ]
  },
  {
   "cell_type": "code",
   "execution_count": 60,
   "id": "7ec42863",
   "metadata": {},
   "outputs": [
    {
     "name": "stdout",
     "output_type": "stream",
     "text": [
      "--- Logistic Regression Performance ---\n",
      "Precision: 0.8946\n",
      "Recall: 0.9361\n",
      "F1 Score: 0.9149\n",
      "ROC AUC: 0.9421\n"
     ]
    }
   ],
   "source": [
    "from sklearn.linear_model import LogisticRegression\n",
    "from sklearn.model_selection import cross_val_predict\n",
    "from sklearn.metrics import precision_score, recall_score, f1_score, roc_auc_score\n",
    "\n",
    "# Create and train the Logistic Regression classifier\n",
    "log_clf = LogisticRegression(max_iter=2000, random_state=42)\n",
    "\n",
    "# Use cross-validation to get predictions\n",
    "y_train_pred = cross_val_predict(log_clf, X_train_transformed, y_train, cv=3)\n",
    "\n",
    "\n",
    "# Calculate and print the performance metrics\n",
    "print(\"--- Logistic Regression Performance ---\")\n",
    "print(f\"Precision: {precision_score(y_train, y_train_pred):.4f}\")\n",
    "print(f\"Recall: {recall_score(y_train, y_train_pred):.4f}\")\n",
    "print(f\"F1 Score: {f1_score(y_train, y_train_pred):.4f}\")\n",
    "print(f\"ROC AUC: {roc_auc_score(y_train, y_train_pred):.4f}\")"
   ]
  },
  {
   "cell_type": "markdown",
   "id": "65c6704a",
   "metadata": {},
   "source": [
    "SGDClassifier: A stochastic gradient descent classifier, efficient for large datasets"
   ]
  },
  {
   "cell_type": "code",
   "execution_count": 61,
   "id": "5d6a2fcb",
   "metadata": {},
   "outputs": [
    {
     "name": "stdout",
     "output_type": "stream",
     "text": [
      "--- SGDClassifier Performance ---\n",
      "Precision: 0.8392\n",
      "Recall:    0.9290\n",
      "F1 Score:  0.8818\n",
      "ROC AUC:   0.9226\n"
     ]
    }
   ],
   "source": [
    "from sklearn.linear_model import SGDClassifier\n",
    "\n",
    "# Create and train the SGDClassifier with hinge loss (linear SVM) or log loss for logistic behavior\n",
    "sgd_clf = SGDClassifier(loss='log_loss', max_iter=1000, tol=1e-3, random_state=42)\n",
    "\n",
    "# Use cross-validation to get predictions\n",
    "y_sgd_pred = cross_val_predict(sgd_clf, X_train_transformed, y_train, cv=3)\n",
    "\n",
    "# Calculate and print the performance metrics\n",
    "print(\"--- SGDClassifier Performance ---\")\n",
    "print(f\"Precision: {precision_score(y_train, y_sgd_pred):.4f}\")\n",
    "print(f\"Recall:    {recall_score(y_train, y_sgd_pred):.4f}\")\n",
    "print(f\"F1 Score:  {f1_score(y_train, y_sgd_pred):.4f}\")\n",
    "print(f\"ROC AUC:   {roc_auc_score(y_train, y_sgd_pred):.4f}\")\n"
   ]
  },
  {
   "cell_type": "markdown",
   "id": "61b65bd7",
   "metadata": {},
   "source": [
    "Multinomial Naive Bayes: A probabilistic classifier particularly effective for text classification"
   ]
  },
  {
   "cell_type": "code",
   "execution_count": 63,
   "id": "dd9ee1c6",
   "metadata": {},
   "outputs": [
    {
     "name": "stdout",
     "output_type": "stream",
     "text": [
      "--- Naive Bayes Performance ---\n",
      "Precision: 0.9648\n",
      "Recall:    0.6535\n",
      "F1 Score:  0.7792\n",
      "ROC AUC:   0.8212\n"
     ]
    }
   ],
   "source": [
    "from sklearn.naive_bayes import MultinomialNB\n",
    "\n",
    "# Multinomial Naive Bayes classifier \n",
    "nb_clf = MultinomialNB()\n",
    "\n",
    "# Use cross-validation to get predictions\n",
    "y_nb_pred = cross_val_predict(nb_clf, X_train_transformed, y_train, cv=3)\n",
    "\n",
    "# Calculate and print the performance metrics\n",
    "print(\"--- Naive Bayes Performance ---\")\n",
    "print(f\"Precision: {precision_score(y_train, y_nb_pred):.4f}\")\n",
    "print(f\"Recall:    {recall_score(y_train, y_nb_pred):.4f}\")\n",
    "print(f\"F1 Score:  {f1_score(y_train, y_nb_pred):.4f}\")\n",
    "print(f\"ROC AUC:   {roc_auc_score(y_train, y_nb_pred):.4f}\")"
   ]
  },
  {
   "cell_type": "markdown",
   "id": "56a4f560",
   "metadata": {},
   "source": [
    "Random Forest Classifier: An ensemble learning method known for its robustness and good performance"
   ]
  },
  {
   "cell_type": "code",
   "execution_count": 64,
   "id": "06226518",
   "metadata": {},
   "outputs": [
    {
     "name": "stdout",
     "output_type": "stream",
     "text": [
      "\n",
      "--- Random Forest Performance ---\n",
      "Precision: 0.9087\n",
      "Recall: 0.9123\n",
      "F1 Score: 0.9105\n",
      "ROC AUC: 0.9345\n"
     ]
    },
    {
     "data": {
      "text/plain": [
       "<matplotlib.legend.Legend at 0x1f155c0f680>"
      ]
     },
     "execution_count": 64,
     "metadata": {},
     "output_type": "execute_result"
    },
    {
     "data": {
      "image/png": "[encoded data removed]",
      "text/plain": [
       "<Figure size 800x600 with 1 Axes>"
      ]
     },
     "metadata": {},
     "output_type": "display_data"
    }
   ],
   "source": [
    "from sklearn.ensemble import RandomForestClassifier\n",
    "from sklearn.metrics import precision_recall_curve\n",
    "import matplotlib.pyplot as plt\n",
    "\n",
    "# Create and train the Random Forest classifier\n",
    "forest_clf = RandomForestClassifier(random_state=42)\n",
    "\n",
    "# Get cross-validated predictions\n",
    "y_train_forest_pred = cross_val_predict(forest_clf, X_train_transformed, y_train, cv=3)\n",
    "\n",
    "# Calculate and print the performance metrics\n",
    "print(\"\\n--- Random Forest Performance ---\")\n",
    "print(f\"Precision: {precision_score(y_train, y_train_forest_pred):.4f}\")\n",
    "print(f\"Recall: {recall_score(y_train, y_train_forest_pred):.4f}\")\n",
    "print(f\"F1 Score: {f1_score(y_train, y_train_forest_pred):.4f}\")\n",
    "print(f\"ROC AUC: {roc_auc_score(y_train, y_train_forest_pred):.4f}\")\n",
    "\n",
    "# Get the probabilities for the positive class (spam)\n",
    "y_probas_forest = cross_val_predict(forest_clf, X_train_transformed, y_train, cv=3, method=\"predict_proba\")\n",
    "\n",
    "# Use probabilities for the positive class for the curve\n",
    "y_scores_forest = y_probas_forest[:, 1]\n",
    "\n",
    "# Calculate precision and recall for various thresholds\n",
    "precisions, recalls, thresholds = precision_recall_curve(y_train, y_scores_forest)\n",
    "\n",
    "# Plot the curve\n",
    "plt.figure(figsize=(8, 6))\n",
    "plt.plot(recalls, precisions, linewidth=2, label=\"Precision-Recall Curve\")\n",
    "plt.xlabel(\"Recall\")\n",
    "plt.ylabel(\"Precision\")\n",
    "plt.title(\"Precision-Recall Curve for Random Forest\")\n",
    "plt.grid(True)\n",
    "plt.legend()"
   ]
  },
  {
   "cell_type": "markdown",
   "id": "0ba88dae",
   "metadata": {},
   "source": [
    "### Comaparing Models\n",
    "\n",
    "| **Model**                   | **Precision** | **Recall** | **F1-Score** | **ROC AUC** |\n",
    "|:----------------------------|:-------------:|:----------:|:------------:|:-----------:|\n",
    "| Logistic Regression         |     0.8946    |   0.9361   |    0.9149    |   0.9421    |\n",
    "| SGDClassifier               |     0.8392    |   0.9290   |    0.8818    |   0.9226    |\n",
    "| Multinomial Naive Bayes     |     0.9648    |   0.6535   |    0.7792    |   0.8212    |\n",
    "| Random Forest Classifier    |     0.9087    |   0.9123   |    0.9105    |   0.9345    |\n",
    "\n",
    "From the initial evaluation, **Logistic Regression** and **Random Forest** show comparable strong performance, with Logistic Regression having a slightly higher ROC AUC and a slightly better F1-score. **Multinomial Naive Bayes** achieved the highest precision but suffered significantly in recall, making it less balanced for this task. Therefore, **Logistic Regression** was selected as the final model for deployment due to its overall balance between precision and recall, along with its high ROC AUC.\n"
   ]
  },
  {
   "cell_type": "markdown",
   "id": "6be66066",
   "metadata": {},
   "source": [
    "### Parameter Tuning\n",
    "\n",
    "I manually tuned the `vocabulary_size` parameter of the `WordCounterToVectorTransformer` to optimize the model's performance. The vocabulary sizes tested were **1000**, **2000**, **3500**, and **5000**, where **2000** provided the best performance. This tuning was crucial in preventing overfitting while ensuring that the model retained enough information to make accurate predictions.\n"
   ]
  },
  {
   "cell_type": "markdown",
   "id": "e4dac092",
   "metadata": {},
   "source": [
    "### Final Evaluation\n",
    "\n",
    "The ultimate measure of a model's effectiveness is its performance on completely unseen data. For this, the best model Logistic Regression was trained on the full training set and then evaluated on the dedicated test set. The results looked promising, however, the threshold for spam or not spam was adjusted to maximize the F1-Score, which is particularly important in spam classification to balance false positives and false negatives."
   ]
  },
  {
   "cell_type": "code",
   "execution_count": 75,
   "id": "187b8465",
   "metadata": {},
   "outputs": [
    {
     "name": "stdout",
     "output_type": "stream",
     "text": [
      "\n",
      "--- Final Model Performance on Test Set (F1-Optimized Threshold) ---\n",
      "Precision: 0.9347\n",
      "Recall: 0.9454\n",
      "F1 Score: 0.9400\n"
     ]
    }
   ],
   "source": [
    "# Fit the pipeline on the full training data\n",
    "X_train_final = preprocess_pipeline.fit_transform(X_train)\n",
    "\n",
    "# Train the final classifier\n",
    "final_clf = LogisticRegression(random_state=42, max_iter=2000)\n",
    "final_clf.fit(X_train_final, y_train)\n",
    "\n",
    "# Transform the test data and get prediction probabilities\n",
    "X_test_transformed = preprocess_pipeline.transform(X_test)\n",
    "y_test_probas = final_clf.predict_proba(X_test_transformed)[:, 1]\n",
    "\n",
    "# Apply the optimal threshold found previously to make predictions\n",
    "y_test_pred_optimised = (y_test_probas >= best_threshold).astype(int)\n",
    "\n",
    "# Final evaluation with the optimized threshold\n",
    "print(\"\\n--- Final Model Performance on Test Set (F1-Optimized Threshold) ---\")\n",
    "print(f\"Precision: {precision_score(y_test, y_test_pred_optimised):.4f}\")\n",
    "print(f\"Recall: {recall_score(y_test, y_test_pred_optimised):.4f}\")\n",
    "print(f\"F1 Score: {f1_score(y_test, y_test_pred_optimised):.4f}\")"
   ]
  },
  {
   "cell_type": "markdown",
   "id": "942c9583",
   "metadata": {},
   "source": [
    "### Conclusion\n",
    "This project successfully developed a spam classifier using a supervised learning approach. The robust data preparation pipeline, including custom transformers for text cleaning, URL/number replacement, stemming, and stop word removal, proved highly effective in converting raw email data into a suitable format for machine learning.\n",
    "\n",
    "The Logistic Regression classifier, after initial evaluation, demonstrated strong performance, achieving a Precision of 0.9347 and a Recall of 0.9454 on the unseen test set. This indicates that the model is highly effective at identifying spam emails while minimizing the misclassification of legitimate emails.\n"
   ]
  }
 ],
 "metadata": {
  "kernelspec": {
   "display_name": ".venv",
   "language": "python",
   "name": "python3"
  },
  "language_info": {
   "codemirror_mode": {
    "name": "ipython",
    "version": 3
   },
   "file_extension": ".py",
   "mimetype": "text/x-python",
   "name": "python",
   "nbconvert_exporter": "python",
   "pygments_lexer": "ipython3",
   "version": "3.12.7"
  }
 },
 "nbformat": 4,
 "nbformat_minor": 5
}
